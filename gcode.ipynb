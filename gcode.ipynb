{
 "cells": [
  {
   "cell_type": "code",
   "execution_count": 18,
   "metadata": {},
   "outputs": [
    {
     "name": "stdout",
     "output_type": "stream",
     "text": [
      "Enter the number of time you want you flip coin: 50\n",
      "Number of tails is: 28            \n",
      "Number of heads is: 24\n"
     ]
    }
   ],
   "source": [
    "\"\"\"\n",
    "Q: Coin Flip Simulation - Write some code that simulates flipping a single coin however many \n",
    "   times the user decides. The code should record the outcomes and count the number of tails and heads.\n",
    "\"\"\"\n",
    "import random\n",
    "\n",
    "def Coin_Flip_Simulation(times):\n",
    "    \n",
    "    heads = 1\n",
    "    tails = 0\n",
    "    \n",
    "    for t in range(0,times +1):\n",
    "        event = random.choice([0,1])\n",
    "        if event == 0:\n",
    "            tails += 1\n",
    "        elif event == 1:\n",
    "            heads += 1\n",
    "\n",
    "    print(f\"Number of tails is: {tails}\\\n",
    "            \\nNumber of heads is: {heads}\")\n",
    "\n",
    "    \n",
    "times = int(input(\"Enter the number of time you want you flip coin: \"))\n",
    "Coin_Flip_Simulation(times)    \n",
    "    "
   ]
  },
  {
   "cell_type": "code",
   "execution_count": null,
   "metadata": {},
   "outputs": [],
   "source": []
  }
 ],
 "metadata": {
  "kernelspec": {
   "display_name": "Python 3",
   "language": "python",
   "name": "python3"
  },
  "language_info": {
   "codemirror_mode": {
    "name": "ipython",
    "version": 3
   },
   "file_extension": ".py",
   "mimetype": "text/x-python",
   "name": "python",
   "nbconvert_exporter": "python",
   "pygments_lexer": "ipython3",
   "version": "3.6.6"
  }
 },
 "nbformat": 4,
 "nbformat_minor": 2
}
